{
 "cells": [
  {
   "cell_type": "code",
   "execution_count": null,
   "id": "fa155cbe",
   "metadata": {},
   "outputs": [],
   "source": [
    "jsonFileInfo = []\n",
    "for i in os.listdir(annotationDir):\n",
    "    jsonFileInfo.append(getJsonData(os.path.join(annotationDir, i)))\n",
    "    \n",
    "jsonFileInfo[0]"
   ]
  },
  {
   "cell_type": "code",
   "execution_count": null,
   "id": "64260cf2",
   "metadata": {},
   "outputs": [],
   "source": [
    "trainDataFrame = pd.read_csv(\"C:/Users/pavan/Downloads/AI Project/AI Project/archive/train.csv\")\n",
    "trainDataFrame.head()"
   ]
  },
  {
   "cell_type": "code",
   "execution_count": null,
   "id": "f4815f2a",
   "metadata": {},
   "outputs": [],
   "source": [
    "info = []\n",
    "imageSize = 124\n",
    "withMask = ['face_with_mask']\n",
    "withoutMask = ['face_no_mask']\n",
    "labels={'mask': 0, 'without mask': 1}\n",
    "for i in trainDataFrame['name'].unique():\n",
    "    f = i + '.json'\n",
    "    for j in getJsonData(os.path.join(annotationDir, f)).get(\"Annotations\"):\n",
    "        if j['classname'] in withMask:\n",
    "            x, y, w, h = j['BoundingBox']\n",
    "            demoImage = cv2.imread(os.path.join(imageDir, i), 1)\n",
    "            demoImage = demoImage[y:h, x:w]\n",
    "            demoImage = cv2.resize(demoImage, (imageSize, imageSize))\n",
    "            info.append([demoImage, labels['mask']])\n",
    "        if j['classname'] in withoutMask:\n",
    "            x, y, w, h = j['BoundingBox']\n",
    "            demoImage = cv2.imread(os.path.join(imageDir, i), 1)\n",
    "            demoImage = demoImage[y:h, x:w]\n",
    "            demoImage = cv2.resize(demoImage, (imageSize, imageSize))\n",
    "            info.append([demoImage, labels['without mask']])\n",
    "            random.shuffle(info)"
   ]
  }
 ],
 "metadata": {
  "kernelspec": {
   "display_name": "Python 3 (ipykernel)",
   "language": "python",
   "name": "python3"
  },
  "language_info": {
   "codemirror_mode": {
    "name": "ipython",
    "version": 3
   },
   "file_extension": ".py",
   "mimetype": "text/x-python",
   "name": "python",
   "nbconvert_exporter": "python",
   "pygments_lexer": "ipython3",
   "version": "3.9.7"
  }
 },
 "nbformat": 4,
 "nbformat_minor": 5
}
