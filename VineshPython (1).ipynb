{
 "cells": [
  {
   "cell_type": "code",
   "execution_count": null,
   "id": "fa87d7d8",
   "metadata": {},
   "outputs": [],
   "source": [
    "datagen = ImageDataGenerator(\n",
    "                featurewise_center=False,\n",
    "                samplewise_center=False,\n",
    "                featurewise_std_normalization=False,\n",
    "                samplewise_std_normalization=False,\n",
    "                zca_whitening=False,\n",
    "                rotation_range=15,\n",
    "                width_shift_range=0.1,\n",
    "                height_shift_range=0.1,\n",
    "                horizontal_flip=True,\n",
    "                vertical_flip=False\n",
    "            )\n",
    "\n",
    "datagen.fit(x_train)"
   ]
  },
  {
   "cell_type": "code",
   "execution_count": null,
   "id": "88fd1096",
   "metadata": {},
   "outputs": [],
   "source": [
    "model_hist = model.fit_generator(datagen.flow(x_train, y_train, \n",
    "                                             batch_size=32),\n",
    "                                steps_per_epoch=x_train.shape[0]//32,\n",
    "                                epochs=5,\n",
    "                                verbose=1,\n",
    "                                validation_data=(x_val, y_val))"
   ]
  },
  {
   "cell_type": "code",
   "execution_count": null,
   "id": "16db73fd",
   "metadata": {},
   "outputs": [],
   "source": [
    "plt.style.use('ggplot')\n",
    "\n",
    "fig1, (ax1, ax2) = plt.subplots(1,2)\n",
    "\n",
    "ax1.plot(model_hist.history['accuracy'], label='train')\n",
    "ax1.plot(model_hist.history['val_accuracy'], label='validation')\n",
    "ax1.set_title(\"Accuracy of our Model\")\n",
    "ax1.set_xlabel(\"Epoch\")\n",
    "ax1.set_ylabel(\"Accuracy\")\n",
    "\n",
    "ax2.plot(model_hist.history['loss'], label='train')\n",
    "ax2.plot(model_hist.history['val_loss'], label='validation')\n",
    "ax2.set_title(\"Loss of our Model\")\n",
    "ax2.set_xlabel(\"Epoch\")\n",
    "ax2.set_ylabel(\"Loss\")\n",
    "\n",
    "fig1.canvas.set_window_title(\"Train vs Test\")\n",
    "fig1.set_figheight(7)\n",
    "fig1.set_figwidth(12)\n",
    "\n",
    "ax1.legend()\n",
    "ax2.legend()\n",
    "\n",
    "plt.tight_layout()\n",
    "plt.show()"
   ]
  }
 ],
 "metadata": {
  "kernelspec": {
   "display_name": "Python 3 (ipykernel)",
   "language": "python",
   "name": "python3"
  },
  "language_info": {
   "codemirror_mode": {
    "name": "ipython",
    "version": 3
   },
   "file_extension": ".py",
   "mimetype": "text/x-python",
   "name": "python",
   "nbconvert_exporter": "python",
   "pygments_lexer": "ipython3",
   "version": "3.8.8"
  }
 },
 "nbformat": 4,
 "nbformat_minor": 5
}
