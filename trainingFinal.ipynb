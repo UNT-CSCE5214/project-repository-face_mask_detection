model = keras.Sequential()

model.add(keras.layers.Conv2D(32, (3,3), padding='same', 
                              activation=tf.nn.relu, input_shape=(124,124,3)))
model.add(keras.layers.Conv2D(64, (3,3), activation=tf.nn.relu))
model.add(keras.layers.Conv2D(128, (3,3), activation=tf.nn.relu))
model.add(keras.layers.MaxPooling2D(pool_size=(2,2)))
model.add(keras.layers.Dropout(0.25))

model.add(keras.layers.Flatten())
model.add(keras.layers.Dropout(0.5))
model.add(keras.layers.Dense(50, activation=tf.nn.relu))
model.add(keras.layers.Dropout(0.5))
model.add(keras.layers.Dense(1, activation=tf.nn.sigmoid))

model.summary()


loss_fn = keras.losses.BinaryCrossentropy()
model.compile(loss=loss_fn,
             optimizer=keras.optimizers.Adam(learning_rate=0.0001),
             metrics=['accuracy'])

x_train, x_val, \
y_train, y_val = train_test_split(featureData, labelData, 
                                train_size=0.8,
                                random_state=0)

datagen = ImageDataGenerator(
                featurewise_center=False,
                samplewise_center=False,
                featurewise_std_normalization=False,
                samplewise_std_normalization=False,
                zca_whitening=False,
                rotation_range=15,
                width_shift_range=0.1,
                height_shift_range=0.1,
                horizontal_flip=True,
                vertical_flip=False
            )

datagen.fit(x_train)
