{
 "cells": [
  {
   "cell_type": "code",
   "execution_count": null,
   "id": "48c3daa9",
   "metadata": {},
   "outputs": [],
   "source": [
    "print(len(testDataframe['name']), len(testDataframe['name'].unique()))"
   ]
  },
  {
   "cell_type": "code",
   "execution_count": null,
   "id": "f9061107",
   "metadata": {},
   "outputs": [],
   "source": [
    "testImages = ['1114.png','1362.jpg','2119.jpg','1404.jpg']"
   ]
  },
  {
   "cell_type": "code",
   "execution_count": null,
   "id": "d0cef182",
   "metadata": {},
   "outputs": [],
   "source": [
    "gamma = 2.0\n",
    "fig = plt.figure(figsize=(14,14))\n",
    "rowCount = 3\n",
    "columnCount = 2\n",
    "axes = []\n",
    "assign = {'0' : 'Mask', '1': 'No Mask'}\n",
    "for j, finalImage in enumerate(testImages):\n",
    "    image = cv2.imread(os.path.join(imageDir, finalImage), 1)\n",
    "    (h, w) = image.shape[:2]\n",
    "    b = cv2.dnn.blobFromImage(cv2.resize(image, (300, 300)),\n",
    "                                1.0, (300, 300), (104.0, 177.0, 123.0))\n",
    "    disc = cvData.forward()\n",
    "    for i in range(0, disc.shape[2]):\n",
    "        try:\n",
    "            box = disc[0, 0, i, 3:7] * np.array([w, h, w, h])\n",
    "            (startFeatureData, startLabelData, endFeatureData, endLabelData) = box.astype('int')\n",
    "            frame = image[startLabelData:endLabelData, startFeatureData:endFeatureData]\n",
    "            con = disc[0, 0, i, 2]\n",
    "            \n",
    "            if con > 0.2:\n",
    "                finalImage = cv2.resize(frame, (imageSize, imageSize))\n",
    "                output = model.predict(finalImage)\n",
    "                if output > 0.5:\n",
    "                    label_labelData = 1\n",
    "                else:\n",
    "                    label_labelData = 0\n",
    "                    \n",
    "                cv2.rectangle(image, (startFeatureData, startLabelData), (endFeatureData, endLabelData),\n",
    "                             (0, 0, 255), 2)\n",
    "        except:pass\n",
    "    axes.append(fig.add_subplot(rowCount, columnCount, j+1))\n",
    "    \n",
    "    plt.imshow(cv2.cvtColor(image, cv2.COLOR_BGR2RGB))\n",
    "    plt.grid(False)\n",
    "\n",
    "plt.show()\n",
    "                "
   ]
  }
 ],
 "metadata": {
  "kernelspec": {
   "display_name": "Python 3",
   "language": "python",
   "name": "python3"
  },
  "language_info": {
   "codemirror_mode": {
    "name": "ipython",
    "version": 3
   },
   "file_extension": ".py",
   "mimetype": "text/x-python",
   "name": "python",
   "nbconvert_exporter": "python",
   "pygments_lexer": "ipython3",
   "version": "3.8.8"
  }
 },
 "nbformat": 4,
 "nbformat_minor": 5
}
