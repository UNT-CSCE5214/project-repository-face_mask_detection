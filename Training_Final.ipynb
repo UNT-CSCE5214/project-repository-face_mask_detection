{
 "cells": [
  {
   "cell_type": "code",
   "execution_count": null,
   "id": "4df7be0c",
   "metadata": {},
   "outputs": [],
   "source": [
    "model = keras.Sequential()\n",
    "\n",
    "model.add(keras.layers.Conv2D(32, (3,3), padding='same', \n",
    "                              activation=tf.nn.relu, input_shape=(124,124,3)))\n",
    "model.add(keras.layers.Conv2D(64, (3,3), activation=tf.nn.relu))\n",
    "model.add(keras.layers.Conv2D(128, (3,3), activation=tf.nn.relu))\n",
    "model.add(keras.layers.MaxPooling2D(pool_size=(2,2)))\n",
    "model.add(keras.layers.Dropout(0.25))\n",
    "\n",
    "model.add(keras.layers.Flatten())\n",
    "model.add(keras.layers.Dropout(0.5))\n",
    "model.add(keras.layers.Dense(50, activation=tf.nn.relu))\n",
    "model.add(keras.layers.Dropout(0.5))\n",
    "model.add(keras.layers.Dense(1, activation=tf.nn.sigmoid))\n",
    "\n",
    "model.summary()"
   ]
  },
  {
   "cell_type": "code",
   "execution_count": null,
   "id": "5fea13bb",
   "metadata": {},
   "outputs": [],
   "source": [
    "loss_fn = keras.losses.BinaryCrossentropy()\n",
    "model.compile(loss=loss_fn,\n",
    "             optimizer=keras.optimizers.Adam(learning_rate=0.0001),\n",
    "             metrics=['accuracy'])"
   ]
  },
  {
   "cell_type": "code",
   "execution_count": null,
   "id": "180dc72b",
   "metadata": {},
   "outputs": [],
   "source": [
    "x_train, x_val, \\\n",
    "y_train, y_val = train_test_split(featureData, labelData, \n",
    "                                train_size=0.8,\n",
    "                                random_state=0)"
   ]
  },
  {
   "cell_type": "code",
   "execution_count": null,
   "id": "de89c6da",
   "metadata": {},
   "outputs": [],
   "source": [
    "datagen = ImageDataGenerator(\n",
    "                featurewise_center=False,\n",
    "                samplewise_center=False,\n",
    "                featurewise_std_normalization=False,\n",
    "                samplewise_std_normalization=False,\n",
    "                zca_whitening=False,\n",
    "                rotation_range=15,\n",
    "                width_shift_range=0.1,\n",
    "                height_shift_range=0.1,\n",
    "                horizontal_flip=True,\n",
    "                vertical_flip=False\n",
    "            )\n",
    "\n",
    "datagen.fit(x_train)"
   ]
  }
 ],
 "metadata": {
  "kernelspec": {
   "display_name": "Python 3 (ipykernel)",
   "language": "python",
   "name": "python3"
  },
  "language_info": {
   "codemirror_mode": {
    "name": "ipython",
    "version": 3
   },
   "file_extension": ".py",
   "mimetype": "text/x-python",
   "name": "python",
   "nbconvert_exporter": "python",
   "pygments_lexer": "ipython3",
   "version": "3.8.8"
  }
 },
 "nbformat": 4,
 "nbformat_minor": 5
}
