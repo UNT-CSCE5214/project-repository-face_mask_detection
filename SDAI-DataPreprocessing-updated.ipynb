{
 "cells": [
  {
   "cell_type": "code",
   "execution_count": null,
   "id": "fa155cbe",
   "metadata": {},
   "outputs": [],
   "source": [
    "jsonFileInfo = []\n",
    "for i in os.listdir(annotationDir):\n",
    "    jsonFileInfo.append(getJsonData(os.path.join(annotationDir, i)))\n",
    "    \n",
    "jsonFileInfo[0]"
   ]
  },
  {
   "cell_type": "code",
   "execution_count": null,
   "id": "64260cf2",
   "metadata": {},
   "outputs": [],
   "source": [
    "trainDataFrame = pd.read_csv(\"C:/Users/pavan/Downloads/AI Project/AI Project/archive/train.csv\")\n",
    "trainDataFrame.head()"
   ]
  },
  {
   "cell_type": "code",
   "execution_count": null,
   "id": "f4815f2a",
   "metadata": {},
   "outputs": [],
   "source": [
    "info = []\n",
    "imageSize = 124\n",
    "withMask = ['face_with_mask']\n",
    "withoutMask = ['face_no_mask']\n",
    "labels={'mask': 0, 'without mask': 1}\n",
    "for i in trainDataFrame['name'].unique():\n",
    "    f = i + '.json'\n",
    "    for j in getJsonData(os.path.join(annotationDir, f)).get(\"Annotations\"):\n",
    "        if j['classname'] in withMask:\n",
    "            x, y, w, h = j['BoundingBox']\n",
    "            demoImage = cv2.imread(os.path.join(imageDir, i), 1)\n",
    "            demoImage = demoImage[y:h, x:w]\n",
    "            demoImage = cv2.resize(demoImage, (imageSize, imageSize))\n",
    "            info.append([demoImage, labels['mask']])\n",
    "        if j['classname'] in withoutMask:\n",
    "            x, y, w, h = j['BoundingBox']\n",
    "            demoImage = cv2.imread(os.path.join(imageDir, i), 1)\n",
    "            demoImage = demoImage[y:h, x:w]\n",
    "            demoImage = cv2.resize(demoImage, (imageSize, imageSize))\n",
    "            info.append([demoImage, labels['without mask']])\n",
    "            random.shuffle(info)"
   ]
  },
  {
   "cell_type": "code",
   "execution_count": null,
   "id": "471bd663",
   "metadata": {},
   "outputs": [],
   "source": [
    "featureData = []\n",
    "labelData = []\n",
    "for features, label in info:\n",
    "    featureData.append(features)\n",
    "    labelData.append(label)"
   ]
  },
  {
   "cell_type": "code",
   "execution_count": null,
   "id": "9fcde9af",
   "metadata": {},
   "outputs": [],
   "source": [
    "featureData[0].shape"
   ]
  },
  {
   "cell_type": "code",
   "execution_count": null,
   "id": "8ad4fd55",
   "metadata": {},
   "outputs": [],
   "source": [
    "featureData = np.array(featureData) / 255.0\n",
    "featureData = featureData.reshape(-1, 124, 124, 3)\n",
    "labelData = np.array(labelData)"
   ]
  },
  {
   "cell_type": "code",
   "execution_count": null,
   "id": "dd261715",
   "metadata": {},
   "outputs": [],
   "source": [
    "np.unique(labelData)"
   ]
  }
 ],
 "metadata": {
  "kernelspec": {
   "display_name": "Python 3 (ipykernel)",
   "language": "python",
   "name": "python3"
  },
  "language_info": {
   "codemirror_mode": {
    "name": "ipython",
    "version": 3
   },
   "file_extension": ".py",
   "mimetype": "text/x-python",
   "name": "python",
   "nbconvert_exporter": "python",
   "pygments_lexer": "ipython3",
   "version": "3.8.8"
  }
 },
 "nbformat": 4,
 "nbformat_minor": 5
}
