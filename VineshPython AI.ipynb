{
 "cells": [
  {
   "cell_type": "code",
   "execution_count": null,
   "id": "fa87d7d8",
   "metadata": {},
   "outputs": [],
   "source": [
    "datagen = ImageDataGenerator(\n",
    "                featurewise_center=False,\n",
    "                samplewise_center=False,\n",
    "                featurewise_std_normalization=False,\n",
    "                samplewise_std_normalization=False,\n",
    "                zca_whitening=False,\n",
    "                rotation_range=15,\n",
    "                width_shift_range=0.1,\n",
    "                height_shift_range=0.1,\n",
    "                horizontal_flip=True,\n",
    "                vertical_flip=False\n",
    "            )\n",
    "\n",
    "datagen.fit(x_train)"
   ]
  },
  {
   "cell_type": "code",
   "execution_count": null,
   "id": "88fd1096",
   "metadata": {},
   "outputs": [],
   "source": [
    "model_hist = model.fit_generator(datagen.flow(x_train, y_train, \n",
    "                                             batch_size=32),\n",
    "                                steps_per_epoch=x_train.shape[0]//32,\n",
    "                                epochs=5,\n",
    "                                verbose=1,\n",
    "                                validation_data=(x_val, y_val))"
   ]
  }
 ],
 "metadata": {
  "kernelspec": {
   "display_name": "Python 3 (ipykernel)",
   "language": "python",
   "name": "python3"
  },
  "language_info": {
   "codemirror_mode": {
    "name": "ipython",
    "version": 3
   },
   "file_extension": ".py",
   "mimetype": "text/x-python",
   "name": "python",
   "nbconvert_exporter": "python",
   "pygments_lexer": "ipython3",
   "version": "3.9.13"
  }
 },
 "nbformat": 4,
 "nbformat_minor": 5
}
