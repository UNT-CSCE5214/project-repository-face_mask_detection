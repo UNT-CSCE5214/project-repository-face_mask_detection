{
 "cells": [
  {
   "cell_type": "code",
   "execution_count": null,
   "id": "c173abff",
   "metadata": {},
   "outputs": [],
   "source": [
    "import pandas as pd\n",
    "import numpy as np\n",
    "import cv2\n",
    "import json\n",
    "import os\n",
    "import matplotlib.pyplot as plt\n",
    "import random\n",
    "import seaborn as sns\n",
    "import tensorflow as tf\n",
    "from tensorflow import keras\n",
    "from sklearn.model_selection import train_test_split\n",
    "from tensorflow.keras.preprocessing.image import ImageDataGenerator\n"
   ]
  },
  {
   "cell_type": "code",
   "execution_count": null,
   "id": "477a9e3e",
   "metadata": {},
   "outputs": [],
   "source": [
    "annotationDir = \"C:/Users/pavan/Downloads/AI Project/AI Project/archive/Medical mask/Medical mask/Medical Mask/annotations\"\n",
    "imageDir = \"C:/Users/pavan/Downloads/AI Project/AI Project/archive/Medical mask/Medical mask/Medical Mask/images\"\n",
    "\n",
    "testDataframe = pd.read_csv(\"C:/Users/pavan/Downloads/AI Project/AI Project/archive/submission.csv\")"
   ]
  },
  {
   "cell_type": "code",
   "execution_count": null,
   "id": "be401bc9",
   "metadata": {},
   "outputs": [],
   "source": [
    "cvData = cv2.dnn.readNetFromCaffe(\"C:/Users/pavan/Downloads/AI Project/AI Project/archive/architecture.txt\",\n",
    "                                \"C:/Users/pavan/Downloads/AI Project/AI Project/archive/weights.caffemodel\")"
   ]
  }
 ],
 "metadata": {
  "kernelspec": {
   "display_name": "Python 3 (ipykernel)",
   "language": "python",
   "name": "python3"
  },
  "language_info": {
   "codemirror_mode": {
    "name": "ipython",
    "version": 3
   },
   "file_extension": ".py",
   "mimetype": "text/x-python",
   "name": "python",
   "nbconvert_exporter": "python",
   "pygments_lexer": "ipython3",
   "version": "3.9.13"
  }
 },
 "nbformat": 4,
 "nbformat_minor": 5
}
